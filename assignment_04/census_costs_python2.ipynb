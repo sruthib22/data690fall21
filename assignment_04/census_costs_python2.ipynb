{
  "nbformat": 4,
  "nbformat_minor": 0,
  "metadata": {
    "colab": {
      "name": "census_costs_python.ipynb",
      "provenance": [],
      "collapsed_sections": [],
      "authorship_tag": "ABX9TyPITGKgOVRH9wvzj0kU+oiK",
      "include_colab_link": true
    },
    "kernelspec": {
      "name": "python3",
      "display_name": "Python 3"
    },
    "language_info": {
      "name": "python"
    }
  },
  "cells": [
    {
      "cell_type": "markdown",
      "metadata": {
        "id": "view-in-github",
        "colab_type": "text"
      },
      "source": [
        "<a href=\"https://colab.research.google.com/github/wcj365/data690fall21/blob/main/assignment_04/census_costs_python2.ipynb\" target=\"_parent\"><img src=\"https://colab.research.google.com/assets/colab-badge.svg\" alt=\"Open In Colab\"/></a>"
      ]
    },
    {
      "cell_type": "markdown",
      "metadata": {
        "id": "OK1OKyh-1QYj"
      },
      "source": [
        "\n",
        "# Census Costs Data Cleansing with Python"
      ]
    },
    {
      "cell_type": "code",
      "metadata": {
        "colab": {
          "base_uri": "https://localhost:8080/"
        },
        "id": "GzP92vc31TBF",
        "outputId": "547e3675-5aad-43ff-a8c6-b1930c27519d"
      },
      "source": [
        "with open(\"/content/census_costs.txt\", \"r\") as f:\n",
        "    lines = f.readlines()\n",
        "\n",
        "lines"
      ],
      "execution_count": 10,
      "outputs": [
        {
          "output_type": "execute_result",
          "data": {
            "text/plain": [
              "['Source: https://www.genealogybranches.com/censuscosts.html\\n',\n",
              " 'Census Year\\tTotal Population\\tCensus Cost\\tAverage Cost Per Person\\n',\n",
              " '1790\\t3,929,214\\t$44,377\\t1.13 cents\\n',\n",
              " '1800\\t5,308,483\\t$66,109\\t1.24 cents\\n',\n",
              " '1810\\t7,239,881\\t$178,445\\t2.46 cents\\n',\n",
              " '1820\\t9,633,822\\t$208,526\\t2.16 cents\\n',\n",
              " '1830\\t12,866,020\\t$378,545\\t2.94 cents\\n',\n",
              " '1840\\t17,069,458\\t$833,371\\t4.88 cents\\n',\n",
              " '1850\\t23,191,876\\t$1,423,351\\t6.14 cents\\n',\n",
              " '1860\\t31,443,321\\t$1,969,377\\t6.26 cents\\n',\n",
              " '1870\\t38,558,371\\t$3,421,198\\t8.87 cents\\n',\n",
              " '1880\\t50,155,783\\t$5,790,678\\t11.54 cents\\n',\n",
              " '1890\\t62,979,766\\t$11,547,127\\t18.33 cents\\n',\n",
              " '1900\\t76,303,387\\t$11,854,000\\t15.54 cents\\n',\n",
              " '1910\\t91,972,266\\t$15,968,000\\t17.07 cents\\n',\n",
              " '1920\\t105,710,620\\t$25,117,000\\t23.76 cents\\n',\n",
              " '1930\\t122,775,046\\t$40,156,000\\t32.71 cents\\n',\n",
              " '1940\\t131,669,275\\t$67,527,000\\t51.29 cents\\n',\n",
              " '1950\\t151,325,798\\t$91,462,000\\t60.44 cents\\n',\n",
              " '1960\\t179,323,175\\t$127,934,000\\t71.34 cents\\n',\n",
              " '1970\\t203,302,031\\t$247,653,000\\t$1.22\\n',\n",
              " '1980\\t226,542,199\\t$1,078,488,000\\t$4.76\\n',\n",
              " '1990\\t248,718,301\\t$2,492,830,000\\t$10.02\\n',\n",
              " '2000\\t281,421,906\\t$4.5 Billion\\t$15.99\\n',\n",
              " '2010*\\t308,745,538\\t$13 Billion\\t$42.11']"
            ]
          },
          "metadata": {},
          "execution_count": 10
        }
      ]
    },
    {
      "cell_type": "code",
      "metadata": {
        "id": "k_mn3ndE1-Yk",
        "colab": {
          "base_uri": "https://localhost:8080/"
        },
        "outputId": "b26c4df6-3e9f-4711-9069-2a14c2174251"
      },
      "source": [
        "top2_lines = lines[:2]\n",
        "top2_lines"
      ],
      "execution_count": 11,
      "outputs": [
        {
          "output_type": "execute_result",
          "data": {
            "text/plain": [
              "['Source: https://www.genealogybranches.com/censuscosts.html\\n',\n",
              " 'Census Year\\tTotal Population\\tCensus Cost\\tAverage Cost Per Person\\n']"
            ]
          },
          "metadata": {},
          "execution_count": 11
        }
      ]
    },
    {
      "cell_type": "code",
      "metadata": {
        "colab": {
          "base_uri": "https://localhost:8080/"
        },
        "id": "FrBO4W8p2Uzr",
        "outputId": "747547b6-38e3-4c88-d78b-acb78453050b"
      },
      "source": [
        "data_lines = lines[2:]\n",
        "data_lines"
      ],
      "execution_count": 12,
      "outputs": [
        {
          "output_type": "execute_result",
          "data": {
            "text/plain": [
              "['1790\\t3,929,214\\t$44,377\\t1.13 cents\\n',\n",
              " '1800\\t5,308,483\\t$66,109\\t1.24 cents\\n',\n",
              " '1810\\t7,239,881\\t$178,445\\t2.46 cents\\n',\n",
              " '1820\\t9,633,822\\t$208,526\\t2.16 cents\\n',\n",
              " '1830\\t12,866,020\\t$378,545\\t2.94 cents\\n',\n",
              " '1840\\t17,069,458\\t$833,371\\t4.88 cents\\n',\n",
              " '1850\\t23,191,876\\t$1,423,351\\t6.14 cents\\n',\n",
              " '1860\\t31,443,321\\t$1,969,377\\t6.26 cents\\n',\n",
              " '1870\\t38,558,371\\t$3,421,198\\t8.87 cents\\n',\n",
              " '1880\\t50,155,783\\t$5,790,678\\t11.54 cents\\n',\n",
              " '1890\\t62,979,766\\t$11,547,127\\t18.33 cents\\n',\n",
              " '1900\\t76,303,387\\t$11,854,000\\t15.54 cents\\n',\n",
              " '1910\\t91,972,266\\t$15,968,000\\t17.07 cents\\n',\n",
              " '1920\\t105,710,620\\t$25,117,000\\t23.76 cents\\n',\n",
              " '1930\\t122,775,046\\t$40,156,000\\t32.71 cents\\n',\n",
              " '1940\\t131,669,275\\t$67,527,000\\t51.29 cents\\n',\n",
              " '1950\\t151,325,798\\t$91,462,000\\t60.44 cents\\n',\n",
              " '1960\\t179,323,175\\t$127,934,000\\t71.34 cents\\n',\n",
              " '1970\\t203,302,031\\t$247,653,000\\t$1.22\\n',\n",
              " '1980\\t226,542,199\\t$1,078,488,000\\t$4.76\\n',\n",
              " '1990\\t248,718,301\\t$2,492,830,000\\t$10.02\\n',\n",
              " '2000\\t281,421,906\\t$4.5 Billion\\t$15.99\\n',\n",
              " '2010*\\t308,745,538\\t$13 Billion\\t$42.11']"
            ]
          },
          "metadata": {},
          "execution_count": 12
        }
      ]
    },
    {
      "cell_type": "code",
      "metadata": {
        "colab": {
          "base_uri": "https://localhost:8080/"
        },
        "id": "mdng9vG82xA2",
        "outputId": "a479323e-9585-4631-93cf-299df502123a"
      },
      "source": [
        "year_list = [line.split(\"\\t\")[0] for line in data_lines]\n",
        "year_list"
      ],
      "execution_count": 13,
      "outputs": [
        {
          "output_type": "execute_result",
          "data": {
            "text/plain": [
              "['1790',\n",
              " '1800',\n",
              " '1810',\n",
              " '1820',\n",
              " '1830',\n",
              " '1840',\n",
              " '1850',\n",
              " '1860',\n",
              " '1870',\n",
              " '1880',\n",
              " '1890',\n",
              " '1900',\n",
              " '1910',\n",
              " '1920',\n",
              " '1930',\n",
              " '1940',\n",
              " '1950',\n",
              " '1960',\n",
              " '1970',\n",
              " '1980',\n",
              " '1990',\n",
              " '2000',\n",
              " '2010*']"
            ]
          },
          "metadata": {},
          "execution_count": 13
        }
      ]
    },
    {
      "cell_type": "code",
      "metadata": {
        "colab": {
          "base_uri": "https://localhost:8080/"
        },
        "id": "k4T3jzjvB5YK",
        "outputId": "2d58c4cf-69f8-4b69-fba7-2cc4e6ea90cc"
      },
      "source": [
        "year_list[22] = \"2010\"\n",
        "year_list"
      ],
      "execution_count": 14,
      "outputs": [
        {
          "output_type": "execute_result",
          "data": {
            "text/plain": [
              "['1790',\n",
              " '1800',\n",
              " '1810',\n",
              " '1820',\n",
              " '1830',\n",
              " '1840',\n",
              " '1850',\n",
              " '1860',\n",
              " '1870',\n",
              " '1880',\n",
              " '1890',\n",
              " '1900',\n",
              " '1910',\n",
              " '1920',\n",
              " '1930',\n",
              " '1940',\n",
              " '1950',\n",
              " '1960',\n",
              " '1970',\n",
              " '1980',\n",
              " '1990',\n",
              " '2000',\n",
              " '2010']"
            ]
          },
          "metadata": {},
          "execution_count": 14
        }
      ]
    },
    {
      "cell_type": "code",
      "metadata": {
        "colab": {
          "base_uri": "https://localhost:8080/"
        },
        "id": "39WBxAaM3IHo",
        "outputId": "f3a65fc3-6ae9-459e-966d-95e1a3180096"
      },
      "source": [
        "year_list_cleansed = [year.replace(\"*\",\"\") for year in year_list]\n",
        "year_list_cleansed"
      ],
      "execution_count": 15,
      "outputs": [
        {
          "output_type": "execute_result",
          "data": {
            "text/plain": [
              "['1790',\n",
              " '1800',\n",
              " '1810',\n",
              " '1820',\n",
              " '1830',\n",
              " '1840',\n",
              " '1850',\n",
              " '1860',\n",
              " '1870',\n",
              " '1880',\n",
              " '1890',\n",
              " '1900',\n",
              " '1910',\n",
              " '1920',\n",
              " '1930',\n",
              " '1940',\n",
              " '1950',\n",
              " '1960',\n",
              " '1970',\n",
              " '1980',\n",
              " '1990',\n",
              " '2000',\n",
              " '2010']"
            ]
          },
          "metadata": {},
          "execution_count": 15
        }
      ]
    },
    {
      "cell_type": "code",
      "metadata": {
        "colab": {
          "base_uri": "https://localhost:8080/"
        },
        "id": "FYdCTUjs3cXL",
        "outputId": "b563a584-eef1-4e0b-af14-34113e8095d7"
      },
      "source": [
        "pop_list = [line.split(\"\\t\")[1] for line in data_lines]\n",
        "pop_list"
      ],
      "execution_count": 16,
      "outputs": [
        {
          "output_type": "execute_result",
          "data": {
            "text/plain": [
              "['3,929,214',\n",
              " '5,308,483',\n",
              " '7,239,881',\n",
              " '9,633,822',\n",
              " '12,866,020',\n",
              " '17,069,458',\n",
              " '23,191,876',\n",
              " '31,443,321',\n",
              " '38,558,371',\n",
              " '50,155,783',\n",
              " '62,979,766',\n",
              " '76,303,387',\n",
              " '91,972,266',\n",
              " '105,710,620',\n",
              " '122,775,046',\n",
              " '131,669,275',\n",
              " '151,325,798',\n",
              " '179,323,175',\n",
              " '203,302,031',\n",
              " '226,542,199',\n",
              " '248,718,301',\n",
              " '281,421,906',\n",
              " '308,745,538']"
            ]
          },
          "metadata": {},
          "execution_count": 16
        }
      ]
    },
    {
      "cell_type": "code",
      "metadata": {
        "colab": {
          "base_uri": "https://localhost:8080/"
        },
        "id": "BPC-KQRy5aM2",
        "outputId": "8cf450ec-7aff-4f13-bc9d-6ebffba745da"
      },
      "source": [
        "pop_list_cleansed = [int(pop.replace(\",\",\"\")) for pop in pop_list]\n",
        "pop_list_cleansed"
      ],
      "execution_count": 17,
      "outputs": [
        {
          "output_type": "execute_result",
          "data": {
            "text/plain": [
              "[3929214,\n",
              " 5308483,\n",
              " 7239881,\n",
              " 9633822,\n",
              " 12866020,\n",
              " 17069458,\n",
              " 23191876,\n",
              " 31443321,\n",
              " 38558371,\n",
              " 50155783,\n",
              " 62979766,\n",
              " 76303387,\n",
              " 91972266,\n",
              " 105710620,\n",
              " 122775046,\n",
              " 131669275,\n",
              " 151325798,\n",
              " 179323175,\n",
              " 203302031,\n",
              " 226542199,\n",
              " 248718301,\n",
              " 281421906,\n",
              " 308745538]"
            ]
          },
          "metadata": {},
          "execution_count": 17
        }
      ]
    },
    {
      "cell_type": "code",
      "metadata": {
        "colab": {
          "base_uri": "https://localhost:8080/"
        },
        "id": "o04zUfDh0Mjl",
        "outputId": "007dba08-1ee5-4888-d869-62ac1e9fe769"
      },
      "source": [
        "cost_list = [line.split(\"\\t\")[2] for line in data_lines]\n",
        "cost_list"
      ],
      "execution_count": 18,
      "outputs": [
        {
          "output_type": "execute_result",
          "data": {
            "text/plain": [
              "['$44,377',\n",
              " '$66,109',\n",
              " '$178,445',\n",
              " '$208,526',\n",
              " '$378,545',\n",
              " '$833,371',\n",
              " '$1,423,351',\n",
              " '$1,969,377',\n",
              " '$3,421,198',\n",
              " '$5,790,678',\n",
              " '$11,547,127',\n",
              " '$11,854,000',\n",
              " '$15,968,000',\n",
              " '$25,117,000',\n",
              " '$40,156,000',\n",
              " '$67,527,000',\n",
              " '$91,462,000',\n",
              " '$127,934,000',\n",
              " '$247,653,000',\n",
              " '$1,078,488,000',\n",
              " '$2,492,830,000',\n",
              " '$4.5 Billion',\n",
              " '$13 Billion']"
            ]
          },
          "metadata": {},
          "execution_count": 18
        }
      ]
    },
    {
      "cell_type": "code",
      "metadata": {
        "id": "pG6AnFI_F8io",
        "outputId": "ff73f195-3f7e-448f-eae0-fb623ac0953e",
        "colab": {
          "base_uri": "https://localhost:8080/"
        }
      },
      "source": [
        "def cleanse_cost(total_cost):\n",
        "    new_cost = total_cost.replace(\"$\", \"\").replace(\",\",\"\").replace(\" Billion\", \"000000000000\").replace(\".50\", \"5\")\n",
        "    return new_cost\n",
        "\n",
        "cost_list_cleansed = [cleanse_cost(total_cost) for total_cost in cost_list]\n",
        "\n",
        "cost_list_cleansed\n"
      ],
      "execution_count": 33,
      "outputs": [
        {
          "output_type": "execute_result",
          "data": {
            "text/plain": [
              "['44377',\n",
              " '66109',\n",
              " '178445',\n",
              " '208526',\n",
              " '378545',\n",
              " '833371',\n",
              " '1423351',\n",
              " '1969377',\n",
              " '3421198',\n",
              " '5790678',\n",
              " '11547127',\n",
              " '11854000',\n",
              " '15968000',\n",
              " '25117000',\n",
              " '40156000',\n",
              " '67527000',\n",
              " '91462000',\n",
              " '127934000',\n",
              " '247653000',\n",
              " '1078488000',\n",
              " '2492830000',\n",
              " '4500000000000',\n",
              " '13000000000000']"
            ]
          },
          "metadata": {},
          "execution_count": 33
        }
      ]
    },
    {
      "cell_type": "code",
      "metadata": {
        "colab": {
          "base_uri": "https://localhost:8080/"
        },
        "id": "0qpZG9GX2QWm",
        "outputId": "01fb1ea0-2cbd-4de3-b336-198a849d6059"
      },
      "source": [
        "cost_list_cleansed = [int(cost) for cost in cost_list_cleansed]\n",
        "cost_list_cleansed"
      ],
      "execution_count": 23,
      "outputs": [
        {
          "output_type": "execute_result",
          "data": {
            "text/plain": [
              "[44377,\n",
              " 66109,\n",
              " 178445,\n",
              " 208526,\n",
              " 378545,\n",
              " 833371,\n",
              " 1423351,\n",
              " 1969377,\n",
              " 3421198,\n",
              " 5790678,\n",
              " 11547127,\n",
              " 11854000,\n",
              " 15968000,\n",
              " 25117000,\n",
              " 40156000,\n",
              " 67527000,\n",
              " 91462000,\n",
              " 127934000,\n",
              " 247653000,\n",
              " 1078488000,\n",
              " 2492830000,\n",
              " 4500000000000,\n",
              " 13000000000000]"
            ]
          },
          "metadata": {},
          "execution_count": 23
        }
      ]
    },
    {
      "cell_type": "code",
      "metadata": {
        "colab": {
          "base_uri": "https://localhost:8080/"
        },
        "id": "J9gTv-Jq2YQU",
        "outputId": "2eedaf11-258d-45fe-c8de-292beb81704a"
      },
      "source": [
        "average_list = [line.split(\"\\t\")[3] for line in data_lines]\n",
        "average_list"
      ],
      "execution_count": 24,
      "outputs": [
        {
          "output_type": "execute_result",
          "data": {
            "text/plain": [
              "['1.13 cents\\n',\n",
              " '1.24 cents\\n',\n",
              " '2.46 cents\\n',\n",
              " '2.16 cents\\n',\n",
              " '2.94 cents\\n',\n",
              " '4.88 cents\\n',\n",
              " '6.14 cents\\n',\n",
              " '6.26 cents\\n',\n",
              " '8.87 cents\\n',\n",
              " '11.54 cents\\n',\n",
              " '18.33 cents\\n',\n",
              " '15.54 cents\\n',\n",
              " '17.07 cents\\n',\n",
              " '23.76 cents\\n',\n",
              " '32.71 cents\\n',\n",
              " '51.29 cents\\n',\n",
              " '60.44 cents\\n',\n",
              " '71.34 cents\\n',\n",
              " '$1.22\\n',\n",
              " '$4.76\\n',\n",
              " '$10.02\\n',\n",
              " '$15.99\\n',\n",
              " '$42.11']"
            ]
          },
          "metadata": {},
          "execution_count": 24
        }
      ]
    },
    {
      "cell_type": "code",
      "metadata": {
        "id": "6lFs9CIJHJTg",
        "outputId": "d3d89ca7-3ceb-461e-8220-962e2b93af4b",
        "colab": {
          "base_uri": "https://localhost:8080/"
        }
      },
      "source": [
        "def cleanse_average(average):\n",
        "\n",
        "    new_average = average.replace(\"cents\\n\", \"\").replace(\"\\n\",\"\")\n",
        "\n",
        "    if \"$\" in new_average:\n",
        "        new_average =round(float(new_average.replace(\"$\",\"\")),2)\n",
        "    else:\n",
        "        new_average = round(float(new_average) / 100, 2)\n",
        "\n",
        "    return new_average\n",
        "\n",
        "average_list_cleansed = [cleanse_average(average) for average in average_list]\n",
        "\n",
        "average_list_cleansed"
      ],
      "execution_count": 35,
      "outputs": [
        {
          "output_type": "execute_result",
          "data": {
            "text/plain": [
              "[0.01,\n",
              " 0.01,\n",
              " 0.02,\n",
              " 0.02,\n",
              " 0.03,\n",
              " 0.05,\n",
              " 0.06,\n",
              " 0.06,\n",
              " 0.09,\n",
              " 0.12,\n",
              " 0.18,\n",
              " 0.16,\n",
              " 0.17,\n",
              " 0.24,\n",
              " 0.33,\n",
              " 0.51,\n",
              " 0.6,\n",
              " 0.71,\n",
              " 1.22,\n",
              " 4.76,\n",
              " 10.02,\n",
              " 15.99,\n",
              " 42.11]"
            ]
          },
          "metadata": {},
          "execution_count": 35
        }
      ]
    },
    {
      "cell_type": "code",
      "metadata": {
        "id": "UcsLx56d4kgL"
      },
      "source": [
        "with open(\"census_costs2.txt\", \"w\") as f:\n",
        "\n",
        "    f.writelines(top2_lines)\n",
        "\n",
        "    for i in range(len(year_list_cleansed)):\n",
        "        f.write(year_list_cleansed[i])\n",
        "        f.write(\",\")\n",
        "        f.write(str(pop_list_cleansed[i]))\n",
        "        f.write(\",\")\n",
        "        f.write(str(cost_list_cleansed[i]))\n",
        "        f.write(\",\")\n",
        "        f.write(str(avg_list_cleansed[i]))\n",
        "\n",
        "        if i != len((year_list_cleansed)) - 1:\n",
        "            f.write(\"\\n\")"
      ],
      "execution_count": 29,
      "outputs": []
    }
  ]
}