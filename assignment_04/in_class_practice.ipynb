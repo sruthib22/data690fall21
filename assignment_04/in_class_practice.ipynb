{
  "nbformat": 4,
  "nbformat_minor": 0,
  "metadata": {
    "colab": {
      "name": "in_class_practice.ipynb",
      "provenance": [],
      "collapsed_sections": [],
      "include_colab_link": true
    },
    "kernelspec": {
      "name": "python3",
      "display_name": "Python 3"
    },
    "language_info": {
      "name": "python"
    }
  },
  "cells": [
    {
      "cell_type": "markdown",
      "metadata": {
        "id": "view-in-github",
        "colab_type": "text"
      },
      "source": [
        "<a href=\"https://colab.research.google.com/github/wcj365/data690fall21/blob/main/assignment_04/in_class_practice.ipynb\" target=\"_parent\"><img src=\"https://colab.research.google.com/assets/colab-badge.svg\" alt=\"Open In Colab\"/></a>"
      ]
    },
    {
      "cell_type": "markdown",
      "metadata": {
        "id": "Gc4DXjE3AeWp"
      },
      "source": [
        "# Session 4 In Class Practice \n",
        "  * Professor: Dr. Jay Wang  \n",
        "  * Student: Nirav Pancholi  \n",
        "  * Date: 09/23/2021"
      ]
    },
    {
      "cell_type": "markdown",
      "metadata": {
        "id": "nosRxPzxAmJq"
      },
      "source": [
        "## Read data from a file"
      ]
    },
    {
      "cell_type": "code",
      "metadata": {
        "colab": {
          "base_uri": "https://localhost:8080/"
        },
        "id": "Kh7FZIptAJdp",
        "outputId": "81a04aa5-f8cc-4072-88e8-d2c1e20e1f82"
      },
      "source": [
        "with open(\"/content/in_class.txt\", \"r\") as f:\n",
        "    lines = f.readlines()\n",
        "\n",
        "lines"
      ],
      "execution_count": 3,
      "outputs": [
        {
          "output_type": "execute_result",
          "data": {
            "text/plain": [
              "['age: continuous.\\n',\n",
              " 'workclass: Private, Self-emp-not-inc, Self-emp-inc, Federal-gov, Local-gov, State-gov, Without-pay, Never-worked.\\n',\n",
              " 'fnlwgt: continuous.\\n',\n",
              " 'education: Bachelors, Some-college, 11th, HS-grad, Prof-school, Assoc-acdm, Assoc-voc, 9th, 7th-8th, 12th, Masters, 1st-4th, 10th, Doctorate, 5th-6th, Preschool.\\n',\n",
              " 'education-num: continuous.\\n',\n",
              " 'marital-status: Married-civ-spouse, Divorced, Never-married, Separated, Widowed, Married-spouse-absent, Married-AF-spouse.\\n',\n",
              " 'occupation: Tech-support, Craft-repair, Other-service, Sales, Exec-managerial, Prof-specialty, Handlers-cleaners, Machine-op-inspct, Adm-clerical, Farming-fishing, Transport-moving, Priv-house-serv, Protective-serv, Armed-Forces.\\n',\n",
              " 'relationship: Wife, Own-child, Husband, Not-in-family, Other-relative, Unmarried.\\n',\n",
              " 'race: White, Asian-Pac-Islander, Amer-Indian-Eskimo, Other, Black.\\n',\n",
              " 'sex: Female, Male.\\n',\n",
              " 'capital-gain: continuous.\\n',\n",
              " 'capital-loss: continuous.\\n',\n",
              " 'hours-per-week: continuous.\\n',\n",
              " 'native-country: United-States, Cambodia, England, Puerto-Rico, Canada, Germany, Outlying-US(Guam-USVI-etc), India, Japan, Greece, South, China, Cuba, Iran, Honduras, Philippines, Italy, Poland, Jamaica, Vietnam, Mexico, Portugal, Ireland, France, Dominican-Republic, Laos, Ecuador, Taiwan, Haiti, Columbia, Hungary, Guatemala, Nicaragua, Scotland, Thailand, Yugoslavia, El-Salvador, Trinadad&Tobago, Peru, Hong, Holand-Netherlands.']"
            ]
          },
          "metadata": {},
          "execution_count": 3
        }
      ]
    },
    {
      "cell_type": "code",
      "metadata": {
        "colab": {
          "base_uri": "https://localhost:8080/"
        },
        "id": "hLalG5hFDD51",
        "outputId": "eec28c8f-3230-460a-a18e-ddf4558475f7"
      },
      "source": [
        "z = [ print(line) for line in lines]\n"
      ],
      "execution_count": 4,
      "outputs": [
        {
          "output_type": "stream",
          "name": "stdout",
          "text": [
            "age: continuous.\n",
            "\n",
            "workclass: Private, Self-emp-not-inc, Self-emp-inc, Federal-gov, Local-gov, State-gov, Without-pay, Never-worked.\n",
            "\n",
            "fnlwgt: continuous.\n",
            "\n",
            "education: Bachelors, Some-college, 11th, HS-grad, Prof-school, Assoc-acdm, Assoc-voc, 9th, 7th-8th, 12th, Masters, 1st-4th, 10th, Doctorate, 5th-6th, Preschool.\n",
            "\n",
            "education-num: continuous.\n",
            "\n",
            "marital-status: Married-civ-spouse, Divorced, Never-married, Separated, Widowed, Married-spouse-absent, Married-AF-spouse.\n",
            "\n",
            "occupation: Tech-support, Craft-repair, Other-service, Sales, Exec-managerial, Prof-specialty, Handlers-cleaners, Machine-op-inspct, Adm-clerical, Farming-fishing, Transport-moving, Priv-house-serv, Protective-serv, Armed-Forces.\n",
            "\n",
            "relationship: Wife, Own-child, Husband, Not-in-family, Other-relative, Unmarried.\n",
            "\n",
            "race: White, Asian-Pac-Islander, Amer-Indian-Eskimo, Other, Black.\n",
            "\n",
            "sex: Female, Male.\n",
            "\n",
            "capital-gain: continuous.\n",
            "\n",
            "capital-loss: continuous.\n",
            "\n",
            "hours-per-week: continuous.\n",
            "\n",
            "native-country: United-States, Cambodia, England, Puerto-Rico, Canada, Germany, Outlying-US(Guam-USVI-etc), India, Japan, Greece, South, China, Cuba, Iran, Honduras, Philippines, Italy, Poland, Jamaica, Vietnam, Mexico, Portugal, Ireland, France, Dominican-Republic, Laos, Ecuador, Taiwan, Haiti, Columbia, Hungary, Guatemala, Nicaragua, Scotland, Thailand, Yugoslavia, El-Salvador, Trinadad&Tobago, Peru, Hong, Holand-Netherlands.\n"
          ]
        }
      ]
    },
    {
      "cell_type": "code",
      "metadata": {
        "colab": {
          "base_uri": "https://localhost:8080/"
        },
        "id": "0hQGYiqBDusw",
        "outputId": "ae929103-090d-4e38-c02c-3e6f46b376ee"
      },
      "source": [
        "columns_dict = {}\n",
        "\n",
        "for line in lines:\n",
        "    splits = line.split(\":\")\n",
        "    if splits[0] not in columns_dict.keys():\n",
        "        columns_dict[splits[0]] = splits[1]\n",
        "\n",
        "columns_dict"
      ],
      "execution_count": 8,
      "outputs": [
        {
          "output_type": "execute_result",
          "data": {
            "text/plain": [
              "{'age': ' continuous.\\n',\n",
              " 'capital-gain': ' continuous.\\n',\n",
              " 'capital-loss': ' continuous.\\n',\n",
              " 'education': ' Bachelors, Some-college, 11th, HS-grad, Prof-school, Assoc-acdm, Assoc-voc, 9th, 7th-8th, 12th, Masters, 1st-4th, 10th, Doctorate, 5th-6th, Preschool.\\n',\n",
              " 'education-num': ' continuous.\\n',\n",
              " 'fnlwgt': ' continuous.\\n',\n",
              " 'hours-per-week': ' continuous.\\n',\n",
              " 'marital-status': ' Married-civ-spouse, Divorced, Never-married, Separated, Widowed, Married-spouse-absent, Married-AF-spouse.\\n',\n",
              " 'native-country': ' United-States, Cambodia, England, Puerto-Rico, Canada, Germany, Outlying-US(Guam-USVI-etc), India, Japan, Greece, South, China, Cuba, Iran, Honduras, Philippines, Italy, Poland, Jamaica, Vietnam, Mexico, Portugal, Ireland, France, Dominican-Republic, Laos, Ecuador, Taiwan, Haiti, Columbia, Hungary, Guatemala, Nicaragua, Scotland, Thailand, Yugoslavia, El-Salvador, Trinadad&Tobago, Peru, Hong, Holand-Netherlands.',\n",
              " 'occupation': ' Tech-support, Craft-repair, Other-service, Sales, Exec-managerial, Prof-specialty, Handlers-cleaners, Machine-op-inspct, Adm-clerical, Farming-fishing, Transport-moving, Priv-house-serv, Protective-serv, Armed-Forces.\\n',\n",
              " 'race': ' White, Asian-Pac-Islander, Amer-Indian-Eskimo, Other, Black.\\n',\n",
              " 'relationship': ' Wife, Own-child, Husband, Not-in-family, Other-relative, Unmarried.\\n',\n",
              " 'sex': ' Female, Male.\\n',\n",
              " 'workclass': ' Private, Self-emp-not-inc, Self-emp-inc, Federal-gov, Local-gov, State-gov, Without-pay, Never-worked.\\n'}"
            ]
          },
          "metadata": {},
          "execution_count": 8
        }
      ]
    },
    {
      "cell_type": "code",
      "metadata": {
        "colab": {
          "base_uri": "https://localhost:8080/"
        },
        "id": "E5ixMAB3EzEx",
        "outputId": "b6ac44c5-350b-4dc9-9671-027bff0428a0"
      },
      "source": [
        "column_names = list(columns_dict.keys())\n",
        "print(column_names)"
      ],
      "execution_count": 10,
      "outputs": [
        {
          "output_type": "stream",
          "name": "stdout",
          "text": [
            "['age', 'workclass', 'fnlwgt', 'education', 'education-num', 'marital-status', 'occupation', 'relationship', 'race', 'sex', 'capital-gain', 'capital-loss', 'hours-per-week', 'native-country']\n"
          ]
        }
      ]
    },
    {
      "cell_type": "code",
      "metadata": {
        "id": "b8FT_XhwG_IG"
      },
      "source": [
        "with open(\"in_class_out.txt\", \"w\") as f:\n",
        "    for i in range(0, len(column_names)):\n",
        "        f.write(column_names[i])\n",
        "        if i < len(column_names) - 1:\n",
        "            f.write(\"\\n\")"
      ],
      "execution_count": 12,
      "outputs": []
    }
  ]
}